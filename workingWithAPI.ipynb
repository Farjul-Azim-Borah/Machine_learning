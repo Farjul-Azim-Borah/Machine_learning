{
  "nbformat": 4,
  "nbformat_minor": 0,
  "metadata": {
    "colab": {
      "provenance": [],
      "authorship_tag": "ABX9TyNDDVLQrID9b+8pwnMSeHaM",
      "include_colab_link": true
    },
    "kernelspec": {
      "name": "python3",
      "display_name": "Python 3"
    },
    "language_info": {
      "name": "python"
    }
  },
  "cells": [
    {
      "cell_type": "markdown",
      "metadata": {
        "id": "view-in-github",
        "colab_type": "text"
      },
      "source": [
        "<a href=\"https://colab.research.google.com/github/Farjul-Azim-Borah/Machine_learning/blob/main/workingWithAPI.ipynb\" target=\"_parent\"><img src=\"https://colab.research.google.com/assets/colab-badge.svg\" alt=\"Open In Colab\"/></a>"
      ]
    },
    {
      "cell_type": "code",
      "execution_count": 1,
      "metadata": {
        "id": "uiTstlF9B2Rd"
      },
      "outputs": [],
      "source": [
        "import pandas as pd\n",
        "import requests"
      ]
    },
    {
      "cell_type": "code",
      "source": [
        "url = \"https://weatherapi-com.p.rapidapi.com/current.json?q=53.1%2C-0.13\"\n",
        "headers = {\n",
        "    \"x-rapidapi-host\": \"weatherapi-com.p.rapidapi.com\",\n",
        "    \"x-rapidapi-key\": \"4d83025f23msh2355876d31891ddp17bfc7jsn44fb73b382c8\"\n",
        "}\n",
        "\n",
        "response = requests.get(url, headers=headers)"
      ],
      "metadata": {
        "id": "-iDdbBSqB86X"
      },
      "execution_count": 7,
      "outputs": []
    },
    {
      "cell_type": "code",
      "source": [
        "if response.status_code == 200:\n",
        "    data = response.json()\n",
        "\n",
        "    location_data = {\n",
        "        \"name\": data['location']['name'],\n",
        "        \"region\": data['location']['region']\n",
        "    }\n",
        "\n",
        "    location_df = pd.DataFrame([location_data])\n",
        "    print(location_df)\n",
        "else:\n",
        "    print(\"Error:\", response.status_code)"
      ],
      "metadata": {
        "colab": {
          "base_uri": "https://localhost:8080/"
        },
        "id": "cdJ29HtBCm2W",
        "outputId": "ccd34377-9943-4887-febc-5b119a393699"
      },
      "execution_count": 15,
      "outputs": [
        {
          "output_type": "stream",
          "name": "stdout",
          "text": [
            "     name        region\n",
            "0  Boston  Lincolnshire\n"
          ]
        }
      ]
    },
    {
      "cell_type": "code",
      "source": [],
      "metadata": {
        "id": "AUoO8QzmELZm"
      },
      "execution_count": 16,
      "outputs": []
    },
    {
      "cell_type": "code",
      "source": [],
      "metadata": {
        "id": "di9-wTUAITQw"
      },
      "execution_count": null,
      "outputs": []
    }
  ]
}